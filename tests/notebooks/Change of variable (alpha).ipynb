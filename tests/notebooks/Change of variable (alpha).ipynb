{
 "cells": [
  {
   "cell_type": "markdown",
   "metadata": {},
   "source": [
    "# Purpose\n",
    "In previous derivations we used α=0 when the pendulum is down (at rest), in the Qube software we use α=0 when the pendulum is inverted.\n",
    "Here we change the equations to match the physical Qube"
   ]
  },
  {
   "cell_type": "code",
   "execution_count": 1,
   "metadata": {},
   "outputs": [],
   "source": [
    "from __future__ import absolute_import, print_function, division\n",
    "import numpy as np\n",
    "from sympy import *"
   ]
  },
  {
   "cell_type": "markdown",
   "metadata": {},
   "source": [
    "# Create symbolic vars"
   ]
  },
  {
   "cell_type": "code",
   "execution_count": 2,
   "metadata": {},
   "outputs": [],
   "source": [
    "alpha, theta, alpha_dot, theta_dot, alpha_dot_dot, theta_dot_dot = symbols('α θ α′  θ′  α′′ θ′′')\n",
    "rm, kt, km, mr, Lr, Jr, Dr, mp, Lp, Jp, Dp, g, tau = symbols('rm kt km mr Lr Jr Dr mp Lp Jp Dp g τ')"
   ]
  },
  {
   "cell_type": "code",
   "execution_count": 3,
   "metadata": {},
   "outputs": [],
   "source": [
    "init_printing(use_unicode=True)"
   ]
  },
  {
   "cell_type": "code",
   "execution_count": 4,
   "metadata": {},
   "outputs": [],
   "source": [
    "alpha_dot_dot = simplify((2.0*Lp*Lr*mp*(4.0*Dr*theta_dot + Lp**2*alpha_dot*mp*theta_dot*sin(2.0*alpha) + 2.0*Lp*Lr*alpha_dot**2*mp*(-sin(alpha)) - 4.0*tau)*(-cos(alpha)) - 0.5*(4.0*Jr + Lp**2*mp*(-sin(alpha))**2 + 4.0*Lr**2*mp)*(-8.0*Dp*alpha_dot + Lp**2*mp*theta_dot**2*sin(2.0*alpha) + 4.0*Lp*g*mp*(-sin(alpha))))/(4.0*Lp**2*Lr**2*mp**2*(-cos(alpha))**2 - (4.0*Jp + Lp**2*mp)*(4.0*Jr + Lp**2*mp*(-sin(alpha))**2 + 4.0*Lr**2*mp)))\n",
    "theta_dot_dot = simplify((-Lp*Lr*mp*(-8.0*Dp*alpha_dot + Lp**2*mp*theta_dot**2*sin(2.0*alpha) + 4.0*Lp*g*mp*(-sin(alpha)))*(-cos(alpha)) + (4.0*Jp + Lp**2*mp)*(4.0*Dr*theta_dot + Lp**2*alpha_dot*mp*theta_dot*sin(2.0*alpha) + 2.0*Lp*Lr*alpha_dot**2*mp*(-sin(alpha)) - 4.0*tau))/(4.0*Lp**2*Lr**2*mp**2*(-cos(alpha))**2 - (4.0*Jp + Lp**2*mp)*(4.0*Jr + Lp**2*mp*(-sin(alpha))**2 + 4.0*Lr**2*mp)))\n"
   ]
  },
  {
   "cell_type": "code",
   "execution_count": 5,
   "metadata": {},
   "outputs": [
    {
     "data": {
      "image/png": "[encoded data removed]",
      "text/latex": [
       "$$\\frac{- 2.0 Lp Lr mp \\left(4.0 Dr θ′ + Lp^{2} mp α′ θ′ \\sin{\\left (2.0 α \\right )} - 2.0 Lp Lr mp α′^{2} \\sin{\\left (α \\right )} - 4.0 τ\\right) \\cos{\\left (α \\right )} + \\left(2.0 Jr + 0.5 Lp^{2} mp \\sin^{2}{\\left (α \\right )} + 2.0 Lr^{2} mp\\right) \\left(8.0 Dp α′ - Lp^{2} mp θ′^{2} \\sin{\\left (2.0 α \\right )} + 4.0 Lp g mp \\sin{\\left (α \\right )}\\right)}{4.0 Lp^{2} Lr^{2} mp^{2} \\cos^{2}{\\left (α \\right )} - \\left(4.0 Jp + Lp^{2} mp\\right) \\left(4.0 Jr + Lp^{2} mp \\sin^{2}{\\left (α \\right )} + 4.0 Lr^{2} mp\\right)}$$"
      ],
      "text/plain": [
       "               ⎛              2                                      2        \n",
       "- 2.0⋅Lp⋅Lr⋅mp⋅⎝4.0⋅Dr⋅θ′ + Lp ⋅mp⋅α′⋅θ′⋅sin(2.0⋅α) - 2.0⋅Lp⋅Lr⋅mp⋅α′ ⋅sin(α) \n",
       "──────────────────────────────────────────────────────────────────────────────\n",
       "                                                               2   2   2    2 \n",
       "                                                         4.0⋅Lp ⋅Lr ⋅mp ⋅cos (\n",
       "\n",
       "       ⎞          ⎛               2       2            2   ⎞ ⎛              2 \n",
       "- 4.0⋅τ⎠⋅cos(α) + ⎝2.0⋅Jr + 0.5⋅Lp ⋅mp⋅sin (α) + 2.0⋅Lr ⋅mp⎠⋅⎝8.0⋅Dp⋅α′ - Lp ⋅\n",
       "──────────────────────────────────────────────────────────────────────────────\n",
       "     ⎛           2   ⎞ ⎛           2       2            2   ⎞                 \n",
       "α) - ⎝4.0⋅Jp + Lp ⋅mp⎠⋅⎝4.0⋅Jr + Lp ⋅mp⋅sin (α) + 4.0⋅Lr ⋅mp⎠                 \n",
       "\n",
       "     2                                ⎞\n",
       "mp⋅θ′ ⋅sin(2.0⋅α) + 4.0⋅Lp⋅g⋅mp⋅sin(α)⎠\n",
       "───────────────────────────────────────\n",
       "                                       \n",
       "                                       "
      ]
     },
     "execution_count": 5,
     "metadata": {},
     "output_type": "execute_result"
    }
   ],
   "source": [
    "alpha_dot_dot"
   ]
  },
  {
   "cell_type": "code",
   "execution_count": 6,
   "metadata": {},
   "outputs": [
    {
     "data": {
      "image/png": "[encoded data removed]",
      "text/latex": [
       "$$\\frac{- Lp Lr mp \\left(8.0 Dp α′ - Lp^{2} mp θ′^{2} \\sin{\\left (2.0 α \\right )} + 4.0 Lp g mp \\sin{\\left (α \\right )}\\right) \\cos{\\left (α \\right )} + \\left(4.0 Jp + Lp^{2} mp\\right) \\left(4.0 Dr θ′ + Lp^{2} mp α′ θ′ \\sin{\\left (2.0 α \\right )} - 2.0 Lp Lr mp α′^{2} \\sin{\\left (α \\right )} - 4.0 τ\\right)}{4.0 Lp^{2} Lr^{2} mp^{2} \\cos^{2}{\\left (α \\right )} - \\left(4.0 Jp + Lp^{2} mp\\right) \\left(4.0 Jr + Lp^{2} mp \\sin^{2}{\\left (α \\right )} + 4.0 Lr^{2} mp\\right)}$$"
      ],
      "text/plain": [
       "           ⎛              2      2                                ⎞          ⎛\n",
       "- Lp⋅Lr⋅mp⋅⎝8.0⋅Dp⋅α′ - Lp ⋅mp⋅θ′ ⋅sin(2.0⋅α) + 4.0⋅Lp⋅g⋅mp⋅sin(α)⎠⋅cos(α) + ⎝\n",
       "──────────────────────────────────────────────────────────────────────────────\n",
       "                                                2   2   2    2      ⎛         \n",
       "                                          4.0⋅Lp ⋅Lr ⋅mp ⋅cos (α) - ⎝4.0⋅Jp + \n",
       "\n",
       "           2   ⎞ ⎛              2                                      2      \n",
       "4.0⋅Jp + Lp ⋅mp⎠⋅⎝4.0⋅Dr⋅θ′ + Lp ⋅mp⋅α′⋅θ′⋅sin(2.0⋅α) - 2.0⋅Lp⋅Lr⋅mp⋅α′ ⋅sin(α\n",
       "──────────────────────────────────────────────────────────────────────────────\n",
       "  2   ⎞ ⎛           2       2            2   ⎞                                \n",
       "Lp ⋅mp⎠⋅⎝4.0⋅Jr + Lp ⋅mp⋅sin (α) + 4.0⋅Lr ⋅mp⎠                                \n",
       "\n",
       "         ⎞\n",
       ") - 4.0⋅τ⎠\n",
       "──────────\n",
       "          \n",
       "          "
      ]
     },
     "execution_count": 6,
     "metadata": {},
     "output_type": "execute_result"
    }
   ],
   "source": [
    "theta_dot_dot"
   ]
  },
  {
   "cell_type": "code",
   "execution_count": 7,
   "metadata": {},
   "outputs": [
    {
     "name": "stdout",
     "output_type": "stream",
     "text": [
      "theta_dot_dot = (-Lp*Lr*mp*(8.0*Dp*alpha_dot - Lp**2*mp*theta_dot**2*np.sin(2.0*alpha) + 4.0*Lp*g*mp*np.sin(alpha))*np.cos(alpha) + (4.0*Jp + Lp**2*mp)*(4.0*Dr*theta_dot + Lp**2*mp*alpha_dot*theta_dot*np.sin(2.0*alpha) - 2.0*Lp*Lr*mp*alpha_dot**2*np.sin(alpha) - 4.0*tau))/(4.0*Lp**2*Lr**2*mp**2*np.cos(alpha)**2 - (4.0*Jp + Lp**2*mp)*(4.0*Jr + Lp**2*mp*np.sin(alpha)**2 + 4.0*Lr**2*mp))\n",
      "alpha_dot_dot = (-2.0*Lp*Lr*mp*(4.0*Dr*theta_dot + Lp**2*mp*alpha_dot*theta_dot*np.sin(2.0*alpha) - 2.0*Lp*Lr*mp*alpha_dot**2*np.sin(alpha) - 4.0*tau)*np.cos(alpha) + (2.0*Jr + 0.5*Lp**2*mp*np.sin(alpha)**2 + 2.0*Lr**2*mp)*(8.0*Dp*alpha_dot - Lp**2*mp*theta_dot**2*np.sin(2.0*alpha) + 4.0*Lp*g*mp*np.sin(alpha)))/(4.0*Lp**2*Lr**2*mp**2*np.cos(alpha)**2 - (4.0*Jp + Lp**2*mp)*(4.0*Jr + Lp**2*mp*np.sin(alpha)**2 + 4.0*Lr**2*mp))\n"
     ]
    }
   ],
   "source": [
    "# Make everything easy to copy into python code\n",
    "\n",
    "print_theta_dot_dot = str(theta_dot_dot)\n",
    "print_theta_dot_dot = print_theta_dot_dot.replace('′', '_dot')\n",
    "print_theta_dot_dot = print_theta_dot_dot.replace('α', 'alpha')\n",
    "print_theta_dot_dot = print_theta_dot_dot.replace('θ', 'theta')\n",
    "print_theta_dot_dot = print_theta_dot_dot.replace('τ', 'tau')\n",
    "print_theta_dot_dot = print_theta_dot_dot.replace('sin', 'np.sin')\n",
    "print_theta_dot_dot = print_theta_dot_dot.replace('cos', 'np.cos')\n",
    "\n",
    "print_alpha_dot_dot = str(alpha_dot_dot)\n",
    "print_alpha_dot_dot = print_alpha_dot_dot.replace('′', '_dot')\n",
    "print_alpha_dot_dot = print_alpha_dot_dot.replace('α', 'alpha')\n",
    "print_alpha_dot_dot = print_alpha_dot_dot.replace('θ', 'theta')\n",
    "print_alpha_dot_dot = print_alpha_dot_dot.replace('τ', 'tau')\n",
    "print_alpha_dot_dot = print_alpha_dot_dot.replace('sin', 'np.sin')\n",
    "print_alpha_dot_dot = print_alpha_dot_dot.replace('cos', 'np.cos')\n",
    "\n",
    "print('theta_dot_dot =', print_theta_dot_dot)\n",
    "print('alpha_dot_dot =', print_alpha_dot_dot)"
   ]
  },
  {
   "cell_type": "markdown",
   "metadata": {},
   "source": [
    "# Compare to the previous solution"
   ]
  },
  {
   "cell_type": "code",
   "execution_count": 8,
   "metadata": {},
   "outputs": [],
   "source": [
    "alpha_old = symbols('alpha_old')\n",
    "alpha_old = alpha + pi"
   ]
  },
  {
   "cell_type": "code",
   "execution_count": 9,
   "metadata": {},
   "outputs": [],
   "source": [
    "alpha_dot_dot_old = (2.0*Lp*Lr*mp*(4.0*Dr*theta_dot + Lp**2*alpha_dot*mp*theta_dot*sin(2.0*alpha_old) + 2.0*Lp*Lr*alpha_dot**2*mp*sin(alpha_old) - 4.0*tau)*cos(alpha_old) - 0.5*(4.0*Jr + Lp**2*mp*sin(alpha_old)**2 + 4.0*Lr**2*mp)*(-8.0*Dp*alpha_dot + Lp**2*mp*theta_dot**2*sin(2.0*alpha_old) + 4.0*Lp*g*mp*sin(alpha_old)))/(4.0*Lp**2*Lr**2*mp**2*cos(alpha_old)**2 - (4.0*Jp + Lp**2*mp)*(4.0*Jr + Lp**2*mp*sin(alpha_old)**2 + 4.0*Lr**2*mp))\n",
    "theta_dot_dot_old = (-Lp*Lr*mp*(-8.0*Dp*alpha_dot + Lp**2*mp*theta_dot**2*sin(2.0*alpha_old) + 4.0*Lp*g*mp*sin(alpha_old))*cos(alpha_old) + (4.0*Jp + Lp**2*mp)*(4.0*Dr*theta_dot + Lp**2*alpha_dot*mp*theta_dot*sin(2.0*alpha_old) + 2.0*Lp*Lr*alpha_dot**2*mp*sin(alpha_old) - 4.0*tau))/(4.0*Lp**2*Lr**2*mp**2*cos(alpha_old)**2 - (4.0*Jp + Lp**2*mp)*(4.0*Jr + Lp**2*mp*sin(alpha_old)**2 + 4.0*Lr**2*mp))\n"
   ]
  },
  {
   "cell_type": "markdown",
   "metadata": {},
   "source": [
    "# Check if the new equation is equal to the old"
   ]
  },
  {
   "cell_type": "code",
   "execution_count": 10,
   "metadata": {},
   "outputs": [
    {
     "data": {
      "image/png": "[encoded data removed]",
      "text/latex": [
       "$$0$$"
      ],
      "text/plain": [
       "0"
      ]
     },
     "execution_count": 10,
     "metadata": {},
     "output_type": "execute_result"
    }
   ],
   "source": [
    "simplify(alpha_dot_dot - alpha_dot_dot_old)"
   ]
  },
  {
   "cell_type": "code",
   "execution_count": 12,
   "metadata": {},
   "outputs": [
    {
     "data": {
      "image/png": "[encoded data removed]",
      "text/latex": [
       "$$0$$"
      ],
      "text/plain": [
       "0"
      ]
     },
     "execution_count": 12,
     "metadata": {},
     "output_type": "execute_result"
    }
   ],
   "source": [
    "simplify(theta_dot_dot - theta_dot_dot_old)"
   ]
  },
  {
   "cell_type": "code",
   "execution_count": null,
   "metadata": {},
   "outputs": [],
   "source": []
  }
 ],
 "metadata": {
  "kernelspec": {
   "display_name": "Math+",
   "language": "python",
   "name": "math"
  },
  "language_info": {
   "codemirror_mode": {
    "name": "ipython",
    "version": 3
   },
   "file_extension": ".py",
   "mimetype": "text/x-python",
   "name": "python",
   "nbconvert_exporter": "python",
   "pygments_lexer": "ipython3",
   "version": "3.6.7"
  }
 },
 "nbformat": 4,
 "nbformat_minor": 2
}
