{
 "cells": [
  {
   "cell_type": "code",
   "execution_count": null,
   "metadata": {},
   "outputs": [],
   "source": [
    "import matplotlib.pyplot as plt\n",
    "\n",
    "from scipy.integrate import odeint\n",
    "import numpy as np\n",
    "import math\n",
    "\n",
    "from gym_brt.quanser import QubeSimulator\n",
    "from gym_brt.quanser.qube_interfaces import forward_model_ode\n",
    "\n",
    "from gym_brt.control import (\n",
    "    zero_policy,\n",
    "    constant_policy,\n",
    "    square_wave_policy,\n",
    "    pd_control_policy,\n",
    "    flip_and_hold_policy,\n",
    "    square_wave_flip_and_hold_policy,\n",
    ")\n"
   ]
  },
  {
   "cell_type": "markdown",
   "metadata": {},
   "source": [
    "# Helper functions"
   ]
  },
  {
   "cell_type": "code",
   "execution_count": null,
   "metadata": {},
   "outputs": [],
   "source": [
    "# Run on the hardware\n",
    "def run_qube(begin_up, policy, nsteps, frequency, integration_steps):\n",
    "    with QubeHardware(\n",
    "        forward_model=forward_model,\n",
    "        frequency=frequency,\n",
    "        integration_steps=integration_steps,\n",
    "        max_voltage=3.0,\n",
    "    ) as qube:\n",
    "        \n",
    "        if begin_up is True:\n",
    "            init_state = qube.reset_up()\n",
    "        elif begin_up is False:\n",
    "            init_state = qube.reset_down()\n",
    "\n",
    "        s = init_state\n",
    "        a = policy(s, step=0)\n",
    "        s_hist = [s]\n",
    "        a_hist = [a]\n",
    "\n",
    "        for i in range(nsteps):\n",
    "            s = qube.step(a)\n",
    "            a = policy(s, step=i+1)\n",
    "\n",
    "            s_hist.append(s) # States\n",
    "            a_hist.append(a) # Actions\n",
    "\n",
    "        # Return a 2d array, hist[n,d] gives the nth timestep and the dth dimension\n",
    "        # Dims are ordered as: ['Theta', 'Alpha', 'Theta dot', 'Alpha dot', 'Action']\n",
    "        return np.concatenate((np.array(s_hist), np.array(a_hist)), axis=1), init_state\n",
    "\n",
    "def run_sim(init_state, policy, nsteps, frequency, integration_steps):\n",
    "    with QubeSimulator(\n",
    "        forward_model=forward_model,\n",
    "        frequency=frequency,\n",
    "        integration_steps=integration_steps,\n",
    "        max_voltage=3.0,\n",
    "    ) as qube:\n",
    "        qube.state = np.asarray(init_state, dtype=np.float64)  # Set the initial state of the simulator\n",
    "\n",
    "        s = init_state\n",
    "        a = policy(s, step=0)\n",
    "        s_hist = [s]\n",
    "        a_hist = [a]\n",
    "\n",
    "        for i in range(nsteps):\n",
    "            s = qube.step(a)\n",
    "            a = policy(s, step=i+1)\n",
    "\n",
    "            s_hist.append(s) # States\n",
    "            a_hist.append(a) # Actions\n",
    "\n",
    "        # Return a 2d array, hist[n,d] gives the nth timestep and the dth dimension\n",
    "        # Dims are ordered as: ['Theta', 'Alpha', 'Theta dot', 'Alpha dot', 'Action']\n",
    "        return np.concatenate((np.array(s_hist), np.array(a_hist)), axis=1)"
   ]
  },
  {
   "cell_type": "code",
   "execution_count": null,
   "metadata": {},
   "outputs": [],
   "source": [
    "def plot_results(hists, labels, colors=None):\n",
    "    state_dims = ['Theta', 'Alpha', 'Theta dot', 'Alpha dot', 'Action']\n",
    "    \n",
    "    f, (ax1, ax2, ax3, ax4, ax5) = plt.subplots(5, 1, sharex=True)\n",
    "    for i, ax in enumerate((ax1, ax2, ax3, ax4, ax5)):\n",
    "        if colors is None:\n",
    "            for hist, label in zip(hists, labels):\n",
    "                ax.plot(hist[:,i], label=label)\n",
    "        else:\n",
    "            for hist, label, color in zip(hists, labels, colors):\n",
    "                ax.plot(hist[:,i], label=label, color=color)\n",
    "        ax.set_ylabel(state_dims[i])\n",
    "        ax.legend()\n",
    "    plt.show()"
   ]
  },
  {
   "cell_type": "markdown",
   "metadata": {},
   "source": [
    "# Run experiments"
   ]
  },
  {
   "cell_type": "code",
   "execution_count": null,
   "metadata": {},
   "outputs": [],
   "source": [
    "# Constants between experiments\n",
    "frequency = 250 # in Hz\n",
    "run_time = 5 # in seconds\n",
    "nsteps = int(run_time * frequency)\n",
    "i_steps = 1"
   ]
  },
  {
   "cell_type": "code",
   "execution_count": null,
   "metadata": {},
   "outputs": [],
   "source": [
    "plt.rcParams[\"figure.figsize\"] = (20,20) # make graphs BIG"
   ]
  },
  {
   "cell_type": "markdown",
   "metadata": {},
   "source": [
    "# Natural responses"
   ]
  },
  {
   "cell_type": "code",
   "execution_count": null,
   "metadata": {
    "scrolled": false
   },
   "outputs": [],
   "source": [
    "# Natural response when starting at α = 0 + noise (upright/inverted)\n",
    "hist_qube, init_state = run_sim(True, zero_policy, nsteps, frequency, i_steps)\n",
    "hist_ode = run_sim(init_state, zero_policy, nsteps, frequency, i_steps)\n",
    "\n",
    "plot_results(hists=[hist_qube, hist_ode], labels=['Hardware', 'ODE'], colors=None)"
   ]
  },
  {
   "cell_type": "code",
   "execution_count": null,
   "metadata": {},
   "outputs": [],
   "source": [
    "# Natural response when starting at α = π + noise (downwards/at rest)\n",
    "hist_qube, init_state = run_sim(False, zero_policy, nsteps, frequency, i_steps)\n",
    "hist_ode = run_sim(init_state, zero_policy, nsteps, frequency, i_steps)\n",
    "\n",
    "plot_results(hists=[hist_qube, hist_ode], labels=['Hardware', 'ODE'], colors=None)"
   ]
  },
  {
   "cell_type": "markdown",
   "metadata": {},
   "source": [
    "# Forced response"
   ]
  },
  {
   "cell_type": "code",
   "execution_count": null,
   "metadata": {},
   "outputs": [],
   "source": [
    "# Focred responce when starting at α = π + noise (downwards/at rest), and using a constant policy\n",
    "hist_qube, init_state = run_sim(False, constant_policy, nsteps, frequency, i_steps)\n",
    "hist_ode = run_sim(init_state, constant_policy, nsteps, frequency, i_steps)\n",
    "\n",
    "plot_results(hists=[hist_qube, hist_ode], labels=['Hardware', 'ODE'], colors=None)"
   ]
  },
  {
   "cell_type": "code",
   "execution_count": null,
   "metadata": {
    "scrolled": false
   },
   "outputs": [],
   "source": [
    "# Forced response when starting at α = π + noise (downwards/at rest), and using a policy that \n",
    "# switches direction every 85 steps\n",
    "hist_qube, init_state = run_sim(False, square_wave_policy, nsteps, frequency, i_steps)\n",
    "hist_ode = run_sim(init_state, square_wave_policy, nsteps, frequency, i_steps)\n",
    "\n",
    "plot_results(hists=[hist_qube, hist_ode], labels=['Hardware', 'ODE'], colors=None)"
   ]
  },
  {
   "cell_type": "markdown",
   "metadata": {},
   "source": [
    "# PD controller (starting inverted)"
   ]
  },
  {
   "cell_type": "code",
   "execution_count": null,
   "metadata": {},
   "outputs": [],
   "source": [
    "# PD controller to hold when starting at α = 0 + noise (inverted)\n",
    "hist_qube, init_state = run_sim(True, pd_control_policy, nsteps, frequency, i_steps)\n",
    "hist_ode = run_sim(init_state, pd_control_policy, nsteps, frequency, i_steps)\n",
    "\n",
    "plot_results(hists=[hist_qube, hist_ode], labels=['Hardware', 'ODE'], colors=None)\n"
   ]
  },
  {
   "cell_type": "markdown",
   "metadata": {},
   "source": [
    "# Energy + PD controller to flip and hold (starting down)"
   ]
  },
  {
   "cell_type": "code",
   "execution_count": null,
   "metadata": {
    "scrolled": false
   },
   "outputs": [],
   "source": [
    "# Energy + PD controller to hold when starting at α = π + noise (inverted)\n",
    "hist_qube, init_state = run_sim(False, flip_and_hold_policy, nsteps, frequency, i_steps)\n",
    "hist_ode = run_sim(init_state, flip_and_hold_policy, nsteps, frequency, i_steps)\n",
    "\n",
    "plot_results(hists=[hist_qube, hist_ode], labels=['Hardware', 'ODE'], colors=None)"
   ]
  },
  {
   "cell_type": "markdown",
   "metadata": {},
   "source": [
    "# Square wave + PD controller to flip and hold (starting down)\n",
    "This often seems to work on the Qube, so it should work on the sim too"
   ]
  },
  {
   "cell_type": "code",
   "execution_count": null,
   "metadata": {
    "scrolled": false
   },
   "outputs": [],
   "source": [
    "# Energy + PD controller to hold when starting at α = π + noise (inverted)\n",
    "hist_qube, init_state = run_sim(False, square_wave_flip_and_hold_policy, nsteps, frequency, i_steps)\n",
    "hist_ode = run_sim(init_state, square_wave_flip_and_hold_policy, nsteps, frequency, i_steps)\n",
    "\n",
    "plot_results(hists=[hist_qube, hist_ode], labels=['Hardware', 'ODE'], colors=None)"
   ]
  },
  {
   "cell_type": "code",
   "execution_count": null,
   "metadata": {},
   "outputs": [],
   "source": []
  }
 ],
 "metadata": {
  "kernelspec": {
   "display_name": "TensorFlow (3.6.6)",
   "language": "python",
   "name": "tf"
  },
  "language_info": {
   "codemirror_mode": {
    "name": "ipython",
    "version": 3
   },
   "file_extension": ".py",
   "mimetype": "text/x-python",
   "name": "python",
   "nbconvert_exporter": "python",
   "pygments_lexer": "ipython3",
   "version": "3.6.7"
  }
 },
 "nbformat": 4,
 "nbformat_minor": 2
}
