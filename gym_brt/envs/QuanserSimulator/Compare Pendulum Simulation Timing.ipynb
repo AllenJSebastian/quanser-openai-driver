{
 "cells": [
  {
   "cell_type": "code",
   "execution_count": 1,
   "metadata": {},
   "outputs": [],
   "source": [
    "from __future__ import absolute_import\n",
    "from __future__ import print_function\n",
    "from __future__ import division\n",
    "\n",
    "import matplotlib.pyplot as plt\n",
    "import numpy as np\n",
    "import math\n",
    "%load_ext cython"
   ]
  },
  {
   "cell_type": "markdown",
   "metadata": {},
   "source": [
    "\n",
    "<br> \n",
    "# Pendulum Models\n",
    "<br>\n"
   ]
  },
  {
   "cell_type": "code",
   "execution_count": 2,
   "metadata": {},
   "outputs": [],
   "source": [
    "from rotary_pendulum import \\\n",
    "    RotaryPendulumNonLinearApproximation, RotaryPendulumLinearApproximation\n",
    "\n",
    "import pyximport; pyximport.install()\n",
    "from c_rotary_pedulum import CythonRotaryPendulumNonLinearApproximation"
   ]
  },
  {
   "cell_type": "code",
   "execution_count": 3,
   "metadata": {},
   "outputs": [],
   "source": [
    "rp = RotaryPendulumNonLinearApproximation()\n",
    "lrp = RotaryPendulumLinearApproximation()\n",
    "crp = CythonRotaryPendulumNonLinearApproximation()"
   ]
  },
  {
   "cell_type": "markdown",
   "metadata": {},
   "source": [
    "\n",
    "<br> \n",
    "# Timing test\n",
    "<br>\n"
   ]
  },
  {
   "cell_type": "code",
   "execution_count": 4,
   "metadata": {},
   "outputs": [
    {
     "name": "stdout",
     "output_type": "stream",
     "text": [
      "Python class (nonlinear)\n",
      "The slowest run took 15.57 times longer than the fastest. This could mean that an intermediate result is being cached.\n",
      "10000 loops, best of 3: 18 µs per loop\n",
      "\n",
      "Cython class (nonlinear)\n",
      "The slowest run took 19.75 times longer than the fastest. This could mean that an intermediate result is being cached.\n",
      "100000 loops, best of 3: 2.14 µs per loop\n",
      "\n",
      "Python function (linear)\n",
      "The slowest run took 8.09 times longer than the fastest. This could mean that an intermediate result is being cached.\n",
      "100000 loops, best of 3: 5.69 µs per loop\n"
     ]
    }
   ],
   "source": [
    "print('Python class (nonlinear)')\n",
    "%timeit rp(np.array([np.random.rand(), np.random.rand(), np.random.rand(), np.random.rand()]), 0, 0.001)\n",
    "\n",
    "print('\\nCython class (nonlinear)')\n",
    "%timeit crp(np.array([np.random.rand(), np.random.rand(), np.random.rand(), np.random.rand()]), 0, 0.001)\n",
    "\n",
    "print('\\nPython function (linear)')\n",
    "%timeit lrp(np.array([np.random.rand(), np.random.rand(), np.random.rand(), np.random.rand()]), 0, 0.001)"
   ]
  },
  {
   "cell_type": "code",
   "execution_count": null,
   "metadata": {},
   "outputs": [],
   "source": [
    "\n"
   ]
  }
 ],
 "metadata": {
  "kernelspec": {
   "display_name": "Python 2",
   "language": "python",
   "name": "python2"
  },
  "language_info": {
   "codemirror_mode": {
    "name": "ipython",
    "version": 2
   },
   "file_extension": ".py",
   "mimetype": "text/x-python",
   "name": "python",
   "nbconvert_exporter": "python",
   "pygments_lexer": "ipython2",
   "version": "2.7.15rc1"
  }
 },
 "nbformat": 4,
 "nbformat_minor": 2
}
